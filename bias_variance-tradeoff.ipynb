{
 "cells": [
  {
   "cell_type": "code",
   "execution_count": 1,
   "id": "c5904348",
   "metadata": {},
   "outputs": [],
   "source": [
    "import numpy as np\n",
    "import matplotlib.pyplot as plt\n",
    "from sklearn.preprocessing import PolynomialFeatures\n",
    "from sklearn.linear_model import LinearRegression\n",
    "from sklearn.pipeline import make_pipeline"
   ]
  },
  {
   "cell_type": "code",
   "execution_count": 2,
   "id": "7015dbe2",
   "metadata": {},
   "outputs": [],
   "source": [
    "np.random.seed(0)\n",
    "X = np.linspace(0, 10, 100)\n",
    "y = 0.5 * X**2 - X + np.random.normal(0, 3, 100)"
   ]
  },
  {
   "cell_type": "code",
   "execution_count": 6,
   "id": "f05dc490",
   "metadata": {},
   "outputs": [
    {
     "data": {
      "text/plain": [
       "<matplotlib.collections.PathCollection at 0x2ab2293b250>"
      ]
     },
     "execution_count": 6,
     "metadata": {},
     "output_type": "execute_result"
    },
    {
     "data": {
      "image/png": "[encoded data removed]",
      "text/plain": [
       "<Figure size 1200x600 with 1 Axes>"
      ]
     },
     "metadata": {},
     "output_type": "display_data"
    }
   ],
   "source": [
    "# synthethic data\n",
    "\n",
    "plt.figure(figsize=(12, 6))\n",
    "plt.scatter(X, y)"
   ]
  },
  {
   "cell_type": "code",
   "execution_count": null,
   "id": "cc8a4d30",
   "metadata": {},
   "outputs": [],
   "source": []
  },
  {
   "cell_type": "code",
   "execution_count": 10,
   "id": "37c0516f",
   "metadata": {},
   "outputs": [
    {
     "data": {
      "text/plain": [
       "array([ 5.29215704,  1.10456304,  2.75459983,  6.46556298,  5.28025789,\n",
       "       -3.30934614,  2.42785938, -0.91116784, -0.79124007,  0.73592774,\n",
       "       -0.06781827,  3.86899336,  1.80561088, -0.08594934,  0.91734625,\n",
       "        0.63371352,  4.17206479, -0.85830716,  0.77391385, -2.63983033,\n",
       "       -7.63856337,  2.0894141 ,  2.84022218, -1.85102317,  7.32349711,\n",
       "       -3.69989939,  0.95964062,  0.43018399,  5.76964669,  5.76916191,\n",
       "        2.02590747,  2.90573539, -0.67172374, -3.72016718,  1.41927753,\n",
       "        3.18305568,  6.66607865,  6.85374704,  2.36623095,  2.91311011,\n",
       "        0.97636947,  0.17418759, -0.36215309, 10.94160279,  3.90314222,\n",
       "        4.47090106,  2.38996613,  8.85425456,  2.06372427,  6.66103434,\n",
       "        5.0168959 ,  9.27824652,  7.0095701 ,  5.43473848,  9.33694092,\n",
       "       11.16153882, 10.54135352, 11.72467924,  9.39996199, 10.71057254,\n",
       "       10.28748551, 11.74248122, 10.90817874,  8.70544971, 14.96345892,\n",
       "       13.78292369, 10.66496051, 17.52139441, 13.99884769, 17.47447714,\n",
       "       20.11401386, 18.93199516, 22.59175577, 16.10778659, 21.66820235,\n",
       "       19.06586357, 19.17722186, 20.73258681, 22.22420374, 24.02728595,\n",
       "       21.07347202, 27.99173566, 27.41678122, 22.15180358, 31.976235  ,\n",
       "       33.96029277, 32.58031382, 29.2857535 , 27.40502609, 34.58259812,\n",
       "       31.02187412, 36.72110523, 34.51116306, 37.65902638, 36.65118265,\n",
       "       38.56498019, 37.35014102, 43.55983574, 39.47674689, 41.20596809])"
      ]
     },
     "execution_count": 10,
     "metadata": {},
     "output_type": "execute_result"
    }
   ],
   "source": [
    "y"
   ]
  },
  {
   "cell_type": "code",
   "execution_count": 11,
   "id": "5da4094a",
   "metadata": {},
   "outputs": [
    {
     "data": {
      "text/plain": [
       "(100,)"
      ]
     },
     "execution_count": 11,
     "metadata": {},
     "output_type": "execute_result"
    }
   ],
   "source": [
    "X.shape"
   ]
  },
  {
   "cell_type": "code",
   "execution_count": 12,
   "id": "d4a50f96",
   "metadata": {},
   "outputs": [
    {
     "data": {
      "text/plain": [
       "(100,)"
      ]
     },
     "execution_count": 12,
     "metadata": {},
     "output_type": "execute_result"
    }
   ],
   "source": [
    "y.shape"
   ]
  },
  {
   "cell_type": "code",
   "execution_count": 14,
   "id": "c1fa33f4",
   "metadata": {
    "scrolled": true
   },
   "outputs": [],
   "source": [
    "X = X[:, np.newaxis]"
   ]
  },
  {
   "cell_type": "code",
   "execution_count": 15,
   "id": "3601010d",
   "metadata": {
    "scrolled": true
   },
   "outputs": [
    {
     "data": {
      "text/plain": [
       "array([[ 0.        ],\n",
       "       [ 0.1010101 ],\n",
       "       [ 0.2020202 ],\n",
       "       [ 0.3030303 ],\n",
       "       [ 0.4040404 ],\n",
       "       [ 0.50505051],\n",
       "       [ 0.60606061],\n",
       "       [ 0.70707071],\n",
       "       [ 0.80808081],\n",
       "       [ 0.90909091],\n",
       "       [ 1.01010101],\n",
       "       [ 1.11111111],\n",
       "       [ 1.21212121],\n",
       "       [ 1.31313131],\n",
       "       [ 1.41414141],\n",
       "       [ 1.51515152],\n",
       "       [ 1.61616162],\n",
       "       [ 1.71717172],\n",
       "       [ 1.81818182],\n",
       "       [ 1.91919192],\n",
       "       [ 2.02020202],\n",
       "       [ 2.12121212],\n",
       "       [ 2.22222222],\n",
       "       [ 2.32323232],\n",
       "       [ 2.42424242],\n",
       "       [ 2.52525253],\n",
       "       [ 2.62626263],\n",
       "       [ 2.72727273],\n",
       "       [ 2.82828283],\n",
       "       [ 2.92929293],\n",
       "       [ 3.03030303],\n",
       "       [ 3.13131313],\n",
       "       [ 3.23232323],\n",
       "       [ 3.33333333],\n",
       "       [ 3.43434343],\n",
       "       [ 3.53535354],\n",
       "       [ 3.63636364],\n",
       "       [ 3.73737374],\n",
       "       [ 3.83838384],\n",
       "       [ 3.93939394],\n",
       "       [ 4.04040404],\n",
       "       [ 4.14141414],\n",
       "       [ 4.24242424],\n",
       "       [ 4.34343434],\n",
       "       [ 4.44444444],\n",
       "       [ 4.54545455],\n",
       "       [ 4.64646465],\n",
       "       [ 4.74747475],\n",
       "       [ 4.84848485],\n",
       "       [ 4.94949495],\n",
       "       [ 5.05050505],\n",
       "       [ 5.15151515],\n",
       "       [ 5.25252525],\n",
       "       [ 5.35353535],\n",
       "       [ 5.45454545],\n",
       "       [ 5.55555556],\n",
       "       [ 5.65656566],\n",
       "       [ 5.75757576],\n",
       "       [ 5.85858586],\n",
       "       [ 5.95959596],\n",
       "       [ 6.06060606],\n",
       "       [ 6.16161616],\n",
       "       [ 6.26262626],\n",
       "       [ 6.36363636],\n",
       "       [ 6.46464646],\n",
       "       [ 6.56565657],\n",
       "       [ 6.66666667],\n",
       "       [ 6.76767677],\n",
       "       [ 6.86868687],\n",
       "       [ 6.96969697],\n",
       "       [ 7.07070707],\n",
       "       [ 7.17171717],\n",
       "       [ 7.27272727],\n",
       "       [ 7.37373737],\n",
       "       [ 7.47474747],\n",
       "       [ 7.57575758],\n",
       "       [ 7.67676768],\n",
       "       [ 7.77777778],\n",
       "       [ 7.87878788],\n",
       "       [ 7.97979798],\n",
       "       [ 8.08080808],\n",
       "       [ 8.18181818],\n",
       "       [ 8.28282828],\n",
       "       [ 8.38383838],\n",
       "       [ 8.48484848],\n",
       "       [ 8.58585859],\n",
       "       [ 8.68686869],\n",
       "       [ 8.78787879],\n",
       "       [ 8.88888889],\n",
       "       [ 8.98989899],\n",
       "       [ 9.09090909],\n",
       "       [ 9.19191919],\n",
       "       [ 9.29292929],\n",
       "       [ 9.39393939],\n",
       "       [ 9.49494949],\n",
       "       [ 9.5959596 ],\n",
       "       [ 9.6969697 ],\n",
       "       [ 9.7979798 ],\n",
       "       [ 9.8989899 ],\n",
       "       [10.        ]])"
      ]
     },
     "execution_count": 15,
     "metadata": {},
     "output_type": "execute_result"
    }
   ],
   "source": [
    "X"
   ]
  },
  {
   "cell_type": "code",
   "execution_count": 16,
   "id": "4a3d4051",
   "metadata": {},
   "outputs": [
    {
     "data": {
      "text/plain": [
       "array([ 5.29215704,  1.10456304,  2.75459983,  6.46556298,  5.28025789,\n",
       "       -3.30934614,  2.42785938, -0.91116784, -0.79124007,  0.73592774,\n",
       "       -0.06781827,  3.86899336,  1.80561088, -0.08594934,  0.91734625,\n",
       "        0.63371352,  4.17206479, -0.85830716,  0.77391385, -2.63983033,\n",
       "       -7.63856337,  2.0894141 ,  2.84022218, -1.85102317,  7.32349711,\n",
       "       -3.69989939,  0.95964062,  0.43018399,  5.76964669,  5.76916191,\n",
       "        2.02590747,  2.90573539, -0.67172374, -3.72016718,  1.41927753,\n",
       "        3.18305568,  6.66607865,  6.85374704,  2.36623095,  2.91311011,\n",
       "        0.97636947,  0.17418759, -0.36215309, 10.94160279,  3.90314222,\n",
       "        4.47090106,  2.38996613,  8.85425456,  2.06372427,  6.66103434,\n",
       "        5.0168959 ,  9.27824652,  7.0095701 ,  5.43473848,  9.33694092,\n",
       "       11.16153882, 10.54135352, 11.72467924,  9.39996199, 10.71057254,\n",
       "       10.28748551, 11.74248122, 10.90817874,  8.70544971, 14.96345892,\n",
       "       13.78292369, 10.66496051, 17.52139441, 13.99884769, 17.47447714,\n",
       "       20.11401386, 18.93199516, 22.59175577, 16.10778659, 21.66820235,\n",
       "       19.06586357, 19.17722186, 20.73258681, 22.22420374, 24.02728595,\n",
       "       21.07347202, 27.99173566, 27.41678122, 22.15180358, 31.976235  ,\n",
       "       33.96029277, 32.58031382, 29.2857535 , 27.40502609, 34.58259812,\n",
       "       31.02187412, 36.72110523, 34.51116306, 37.65902638, 36.65118265,\n",
       "       38.56498019, 37.35014102, 43.55983574, 39.47674689, 41.20596809])"
      ]
     },
     "execution_count": 16,
     "metadata": {},
     "output_type": "execute_result"
    }
   ],
   "source": [
    "y"
   ]
  },
  {
   "cell_type": "code",
   "execution_count": 17,
   "id": "a22ee3c3",
   "metadata": {},
   "outputs": [
    {
     "data": {
      "text/html": [
       "<style>#sk-container-id-1 {color: black;}#sk-container-id-1 pre{padding: 0;}#sk-container-id-1 div.sk-toggleable {background-color: white;}#sk-container-id-1 label.sk-toggleable__label {cursor: pointer;display: block;width: 100%;margin-bottom: 0;padding: 0.3em;box-sizing: border-box;text-align: center;}#sk-container-id-1 label.sk-toggleable__label-arrow:before {content: \"▸\";float: left;margin-right: 0.25em;color: #696969;}#sk-container-id-1 label.sk-toggleable__label-arrow:hover:before {color: black;}#sk-container-id-1 div.sk-estimator:hover label.sk-toggleable__label-arrow:before {color: black;}#sk-container-id-1 div.sk-toggleable__content {max-height: 0;max-width: 0;overflow: hidden;text-align: left;background-color: #f0f8ff;}#sk-container-id-1 div.sk-toggleable__content pre {margin: 0.2em;color: black;border-radius: 0.25em;background-color: #f0f8ff;}#sk-container-id-1 input.sk-toggleable__control:checked~div.sk-toggleable__content {max-height: 200px;max-width: 100%;overflow: auto;}#sk-container-id-1 input.sk-toggleable__control:checked~label.sk-toggleable__label-arrow:before {content: \"▾\";}#sk-container-id-1 div.sk-estimator input.sk-toggleable__control:checked~label.sk-toggleable__label {background-color: #d4ebff;}#sk-container-id-1 div.sk-label input.sk-toggleable__control:checked~label.sk-toggleable__label {background-color: #d4ebff;}#sk-container-id-1 input.sk-hidden--visually {border: 0;clip: rect(1px 1px 1px 1px);clip: rect(1px, 1px, 1px, 1px);height: 1px;margin: -1px;overflow: hidden;padding: 0;position: absolute;width: 1px;}#sk-container-id-1 div.sk-estimator {font-family: monospace;background-color: #f0f8ff;border: 1px dotted black;border-radius: 0.25em;box-sizing: border-box;margin-bottom: 0.5em;}#sk-container-id-1 div.sk-estimator:hover {background-color: #d4ebff;}#sk-container-id-1 div.sk-parallel-item::after {content: \"\";width: 100%;border-bottom: 1px solid gray;flex-grow: 1;}#sk-container-id-1 div.sk-label:hover label.sk-toggleable__label {background-color: #d4ebff;}#sk-container-id-1 div.sk-serial::before {content: \"\";position: absolute;border-left: 1px solid gray;box-sizing: border-box;top: 0;bottom: 0;left: 50%;z-index: 0;}#sk-container-id-1 div.sk-serial {display: flex;flex-direction: column;align-items: center;background-color: white;padding-right: 0.2em;padding-left: 0.2em;position: relative;}#sk-container-id-1 div.sk-item {position: relative;z-index: 1;}#sk-container-id-1 div.sk-parallel {display: flex;align-items: stretch;justify-content: center;background-color: white;position: relative;}#sk-container-id-1 div.sk-item::before, #sk-container-id-1 div.sk-parallel-item::before {content: \"\";position: absolute;border-left: 1px solid gray;box-sizing: border-box;top: 0;bottom: 0;left: 50%;z-index: -1;}#sk-container-id-1 div.sk-parallel-item {display: flex;flex-direction: column;z-index: 1;position: relative;background-color: white;}#sk-container-id-1 div.sk-parallel-item:first-child::after {align-self: flex-end;width: 50%;}#sk-container-id-1 div.sk-parallel-item:last-child::after {align-self: flex-start;width: 50%;}#sk-container-id-1 div.sk-parallel-item:only-child::after {width: 0;}#sk-container-id-1 div.sk-dashed-wrapped {border: 1px dashed gray;margin: 0 0.4em 0.5em 0.4em;box-sizing: border-box;padding-bottom: 0.4em;background-color: white;}#sk-container-id-1 div.sk-label label {font-family: monospace;font-weight: bold;display: inline-block;line-height: 1.2em;}#sk-container-id-1 div.sk-label-container {text-align: center;}#sk-container-id-1 div.sk-container {/* jupyter's `normalize.less` sets `[hidden] { display: none; }` but bootstrap.min.css set `[hidden] { display: none !important; }` so we also need the `!important` here to be able to override the default hidden behavior on the sphinx rendered scikit-learn.org. See: https://github.com/scikit-learn/scikit-learn/issues/21755 */display: inline-block !important;position: relative;}#sk-container-id-1 div.sk-text-repr-fallback {display: none;}</style><div id=\"sk-container-id-1\" class=\"sk-top-container\"><div class=\"sk-text-repr-fallback\"><pre>LinearRegression()</pre><b>In a Jupyter environment, please rerun this cell to show the HTML representation or trust the notebook. <br />On GitHub, the HTML representation is unable to render, please try loading this page with nbviewer.org.</b></div><div class=\"sk-container\" hidden><div class=\"sk-item\"><div class=\"sk-estimator sk-toggleable\"><input class=\"sk-toggleable__control sk-hidden--visually\" id=\"sk-estimator-id-1\" type=\"checkbox\" checked><label for=\"sk-estimator-id-1\" class=\"sk-toggleable__label sk-toggleable__label-arrow\">LinearRegression</label><div class=\"sk-toggleable__content\"><pre>LinearRegression()</pre></div></div></div></div></div>"
      ],
      "text/plain": [
       "LinearRegression()"
      ]
     },
     "execution_count": 17,
     "metadata": {},
     "output_type": "execute_result"
    }
   ],
   "source": [
    "linear = LinearRegression()\n",
    "linear.fit(X, y)"
   ]
  },
  {
   "cell_type": "code",
   "execution_count": 19,
   "id": "5953e9ed",
   "metadata": {},
   "outputs": [],
   "source": [
    "y_pred_linear = linear.predict(X)"
   ]
  },
  {
   "cell_type": "code",
   "execution_count": 23,
   "id": "0a780fd8",
   "metadata": {},
   "outputs": [
    {
     "data": {
      "text/plain": [
       "<matplotlib.legend.Legend at 0x2ab25de1610>"
      ]
     },
     "execution_count": 23,
     "metadata": {},
     "output_type": "execute_result"
    },
    {
     "data": {
      "image/png": "[encoded data removed]",
      "text/plain": [
       "<Figure size 1200x600 with 1 Axes>"
      ]
     },
     "metadata": {},
     "output_type": "display_data"
    }
   ],
   "source": [
    "plt.figure(figsize=(12, 6))\n",
    "plt.scatter(X, y, label=\"data\")\n",
    "plt.plot(X, y_pred_linear, color=\"red\", label='model')\n",
    "plt.title(f'linear model')\n",
    "plt.legend()"
   ]
  },
  {
   "cell_type": "code",
   "execution_count": 57,
   "id": "518d9112",
   "metadata": {
    "scrolled": true
   },
   "outputs": [
    {
     "name": "stdout",
     "output_type": "stream",
     "text": [
      "[[0.00000000e+00 0.00000000e+00 0.00000000e+00 ... 0.00000000e+00\n",
      "  0.00000000e+00 0.00000000e+00]\n",
      " [1.01010101e-01 1.02030405e-02 1.03061015e-03 ... 1.19830259e-18\n",
      "  1.21040665e-19 1.22263298e-20]\n",
      " [2.02020202e-01 4.08121620e-02 8.24488122e-03 ... 3.14127834e-13\n",
      "  6.34601684e-14 1.28202360e-14]\n",
      " ...\n",
      " [9.79797980e+00 9.60004081e+01 9.40610059e+02 ... 6.92560494e+17\n",
      "  6.78569373e+18 6.64860900e+19]\n",
      " [9.89898990e+00 9.79900010e+01 9.70002030e+02 ... 8.32982466e+17\n",
      "  8.24568502e+18 8.16239527e+19]\n",
      " [1.00000000e+01 1.00000000e+02 1.00000000e+03 ... 1.00000000e+18\n",
      "  1.00000000e+19 1.00000000e+20]]\n"
     ]
    }
   ],
   "source": [
    "poly_reg = PolynomialFeatures(degree=20, include_bias=False)\n",
    "X_poly = poly_reg.fit_transform(X)\n",
    "print(X_poly)"
   ]
  },
  {
   "cell_type": "code",
   "execution_count": 58,
   "id": "14f6ef74",
   "metadata": {},
   "outputs": [
    {
     "data": {
      "text/html": [
       "<style>#sk-container-id-9 {color: black;}#sk-container-id-9 pre{padding: 0;}#sk-container-id-9 div.sk-toggleable {background-color: white;}#sk-container-id-9 label.sk-toggleable__label {cursor: pointer;display: block;width: 100%;margin-bottom: 0;padding: 0.3em;box-sizing: border-box;text-align: center;}#sk-container-id-9 label.sk-toggleable__label-arrow:before {content: \"▸\";float: left;margin-right: 0.25em;color: #696969;}#sk-container-id-9 label.sk-toggleable__label-arrow:hover:before {color: black;}#sk-container-id-9 div.sk-estimator:hover label.sk-toggleable__label-arrow:before {color: black;}#sk-container-id-9 div.sk-toggleable__content {max-height: 0;max-width: 0;overflow: hidden;text-align: left;background-color: #f0f8ff;}#sk-container-id-9 div.sk-toggleable__content pre {margin: 0.2em;color: black;border-radius: 0.25em;background-color: #f0f8ff;}#sk-container-id-9 input.sk-toggleable__control:checked~div.sk-toggleable__content {max-height: 200px;max-width: 100%;overflow: auto;}#sk-container-id-9 input.sk-toggleable__control:checked~label.sk-toggleable__label-arrow:before {content: \"▾\";}#sk-container-id-9 div.sk-estimator input.sk-toggleable__control:checked~label.sk-toggleable__label {background-color: #d4ebff;}#sk-container-id-9 div.sk-label input.sk-toggleable__control:checked~label.sk-toggleable__label {background-color: #d4ebff;}#sk-container-id-9 input.sk-hidden--visually {border: 0;clip: rect(1px 1px 1px 1px);clip: rect(1px, 1px, 1px, 1px);height: 1px;margin: -1px;overflow: hidden;padding: 0;position: absolute;width: 1px;}#sk-container-id-9 div.sk-estimator {font-family: monospace;background-color: #f0f8ff;border: 1px dotted black;border-radius: 0.25em;box-sizing: border-box;margin-bottom: 0.5em;}#sk-container-id-9 div.sk-estimator:hover {background-color: #d4ebff;}#sk-container-id-9 div.sk-parallel-item::after {content: \"\";width: 100%;border-bottom: 1px solid gray;flex-grow: 1;}#sk-container-id-9 div.sk-label:hover label.sk-toggleable__label {background-color: #d4ebff;}#sk-container-id-9 div.sk-serial::before {content: \"\";position: absolute;border-left: 1px solid gray;box-sizing: border-box;top: 0;bottom: 0;left: 50%;z-index: 0;}#sk-container-id-9 div.sk-serial {display: flex;flex-direction: column;align-items: center;background-color: white;padding-right: 0.2em;padding-left: 0.2em;position: relative;}#sk-container-id-9 div.sk-item {position: relative;z-index: 1;}#sk-container-id-9 div.sk-parallel {display: flex;align-items: stretch;justify-content: center;background-color: white;position: relative;}#sk-container-id-9 div.sk-item::before, #sk-container-id-9 div.sk-parallel-item::before {content: \"\";position: absolute;border-left: 1px solid gray;box-sizing: border-box;top: 0;bottom: 0;left: 50%;z-index: -1;}#sk-container-id-9 div.sk-parallel-item {display: flex;flex-direction: column;z-index: 1;position: relative;background-color: white;}#sk-container-id-9 div.sk-parallel-item:first-child::after {align-self: flex-end;width: 50%;}#sk-container-id-9 div.sk-parallel-item:last-child::after {align-self: flex-start;width: 50%;}#sk-container-id-9 div.sk-parallel-item:only-child::after {width: 0;}#sk-container-id-9 div.sk-dashed-wrapped {border: 1px dashed gray;margin: 0 0.4em 0.5em 0.4em;box-sizing: border-box;padding-bottom: 0.4em;background-color: white;}#sk-container-id-9 div.sk-label label {font-family: monospace;font-weight: bold;display: inline-block;line-height: 1.2em;}#sk-container-id-9 div.sk-label-container {text-align: center;}#sk-container-id-9 div.sk-container {/* jupyter's `normalize.less` sets `[hidden] { display: none; }` but bootstrap.min.css set `[hidden] { display: none !important; }` so we also need the `!important` here to be able to override the default hidden behavior on the sphinx rendered scikit-learn.org. See: https://github.com/scikit-learn/scikit-learn/issues/21755 */display: inline-block !important;position: relative;}#sk-container-id-9 div.sk-text-repr-fallback {display: none;}</style><div id=\"sk-container-id-9\" class=\"sk-top-container\"><div class=\"sk-text-repr-fallback\"><pre>PolynomialFeatures(degree=20, include_bias=False)</pre><b>In a Jupyter environment, please rerun this cell to show the HTML representation or trust the notebook. <br />On GitHub, the HTML representation is unable to render, please try loading this page with nbviewer.org.</b></div><div class=\"sk-container\" hidden><div class=\"sk-item\"><div class=\"sk-estimator sk-toggleable\"><input class=\"sk-toggleable__control sk-hidden--visually\" id=\"sk-estimator-id-9\" type=\"checkbox\" checked><label for=\"sk-estimator-id-9\" class=\"sk-toggleable__label sk-toggleable__label-arrow\">PolynomialFeatures</label><div class=\"sk-toggleable__content\"><pre>PolynomialFeatures(degree=20, include_bias=False)</pre></div></div></div></div></div>"
      ],
      "text/plain": [
       "PolynomialFeatures(degree=20, include_bias=False)"
      ]
     },
     "execution_count": 58,
     "metadata": {},
     "output_type": "execute_result"
    }
   ],
   "source": [
    "poly_reg.fit(X_poly)"
   ]
  },
  {
   "cell_type": "code",
   "execution_count": 32,
   "id": "1a9a0d4f",
   "metadata": {
    "scrolled": true
   },
   "outputs": [
    {
     "data": {
      "text/plain": [
       "array([[0.00000000e+00, 0.00000000e+00, 0.00000000e+00],\n",
       "       [1.01010101e-01, 1.02030405e-02, 1.03061015e-03],\n",
       "       [2.02020202e-01, 4.08121620e-02, 8.24488122e-03],\n",
       "       [3.03030303e-01, 9.18273646e-02, 2.78264741e-02],\n",
       "       [4.04040404e-01, 1.63248648e-01, 6.59590497e-02],\n",
       "       [5.05050505e-01, 2.55076013e-01, 1.28826269e-01],\n",
       "       [6.06060606e-01, 3.67309458e-01, 2.22611793e-01],\n",
       "       [7.07070707e-01, 4.99948985e-01, 3.53499282e-01],\n",
       "       [8.08080808e-01, 6.52994592e-01, 5.27672398e-01],\n",
       "       [9.09090909e-01, 8.26446281e-01, 7.51314801e-01],\n",
       "       [1.01010101e+00, 1.02030405e+00, 1.03061015e+00],\n",
       "       [1.11111111e+00, 1.23456790e+00, 1.37174211e+00],\n",
       "       [1.21212121e+00, 1.46923783e+00, 1.78089434e+00],\n",
       "       [1.31313131e+00, 1.72431385e+00, 2.26425050e+00],\n",
       "       [1.41414141e+00, 1.99979594e+00, 2.82799426e+00],\n",
       "       [1.51515152e+00, 2.29568411e+00, 3.47830926e+00],\n",
       "       [1.61616162e+00, 2.61197837e+00, 4.22137918e+00],\n",
       "       [1.71717172e+00, 2.94867871e+00, 5.06338768e+00],\n",
       "       [1.81818182e+00, 3.30578512e+00, 6.01051841e+00],\n",
       "       [1.91919192e+00, 3.68329762e+00, 7.06895503e+00],\n",
       "       [2.02020202e+00, 4.08121620e+00, 8.24488122e+00],\n",
       "       [2.12121212e+00, 4.49954086e+00, 9.54448062e+00],\n",
       "       [2.22222222e+00, 4.93827160e+00, 1.09739369e+01],\n",
       "       [2.32323232e+00, 5.39740843e+00, 1.25394337e+01],\n",
       "       [2.42424242e+00, 5.87695133e+00, 1.42471547e+01],\n",
       "       [2.52525253e+00, 6.37690032e+00, 1.61032836e+01],\n",
       "       [2.62626263e+00, 6.89725538e+00, 1.81140040e+01],\n",
       "       [2.72727273e+00, 7.43801653e+00, 2.02854996e+01],\n",
       "       [2.82828283e+00, 7.99918376e+00, 2.26239541e+01],\n",
       "       [2.92929293e+00, 8.58075707e+00, 2.51355510e+01],\n",
       "       [3.03030303e+00, 9.18273646e+00, 2.78264741e+01],\n",
       "       [3.13131313e+00, 9.80512193e+00, 3.07029070e+01],\n",
       "       [3.23232323e+00, 1.04479135e+01, 3.37710335e+01],\n",
       "       [3.33333333e+00, 1.11111111e+01, 3.70370370e+01],\n",
       "       [3.43434343e+00, 1.17947148e+01, 4.05071014e+01],\n",
       "       [3.53535354e+00, 1.24987246e+01, 4.41874103e+01],\n",
       "       [3.63636364e+00, 1.32231405e+01, 4.80841473e+01],\n",
       "       [3.73737374e+00, 1.39679625e+01, 5.22034960e+01],\n",
       "       [3.83838384e+00, 1.47331905e+01, 5.65516403e+01],\n",
       "       [3.93939394e+00, 1.55188246e+01, 6.11347636e+01],\n",
       "       [4.04040404e+00, 1.63248648e+01, 6.59590497e+01],\n",
       "       [4.14141414e+00, 1.71513111e+01, 7.10306823e+01],\n",
       "       [4.24242424e+00, 1.79981635e+01, 7.63558450e+01],\n",
       "       [4.34343434e+00, 1.88654219e+01, 8.19407214e+01],\n",
       "       [4.44444444e+00, 1.97530864e+01, 8.77914952e+01],\n",
       "       [4.54545455e+00, 2.06611570e+01, 9.39143501e+01],\n",
       "       [4.64646465e+00, 2.15896337e+01, 1.00315470e+02],\n",
       "       [4.74747475e+00, 2.25385165e+01, 1.07001038e+02],\n",
       "       [4.84848485e+00, 2.35078053e+01, 1.13977238e+02],\n",
       "       [4.94949495e+00, 2.44975003e+01, 1.21250254e+02],\n",
       "       [5.05050505e+00, 2.55076013e+01, 1.28826269e+02],\n",
       "       [5.15151515e+00, 2.65381084e+01, 1.36711467e+02],\n",
       "       [5.25252525e+00, 2.75890215e+01, 1.44912032e+02],\n",
       "       [5.35353535e+00, 2.86603408e+01, 1.53434148e+02],\n",
       "       [5.45454545e+00, 2.97520661e+01, 1.62283997e+02],\n",
       "       [5.55555556e+00, 3.08641975e+01, 1.71467764e+02],\n",
       "       [5.65656566e+00, 3.19967350e+01, 1.80991632e+02],\n",
       "       [5.75757576e+00, 3.31496786e+01, 1.90861786e+02],\n",
       "       [5.85858586e+00, 3.43230283e+01, 2.01084408e+02],\n",
       "       [5.95959596e+00, 3.55167840e+01, 2.11665682e+02],\n",
       "       [6.06060606e+00, 3.67309458e+01, 2.22611793e+02],\n",
       "       [6.16161616e+00, 3.79655137e+01, 2.33928923e+02],\n",
       "       [6.26262626e+00, 3.92204877e+01, 2.45623256e+02],\n",
       "       [6.36363636e+00, 4.04958678e+01, 2.57700977e+02],\n",
       "       [6.46464646e+00, 4.17916539e+01, 2.70168268e+02],\n",
       "       [6.56565657e+00, 4.31078461e+01, 2.83031313e+02],\n",
       "       [6.66666667e+00, 4.44444444e+01, 2.96296296e+02],\n",
       "       [6.76767677e+00, 4.58014488e+01, 3.09969401e+02],\n",
       "       [6.86868687e+00, 4.71788593e+01, 3.24056811e+02],\n",
       "       [6.96969697e+00, 4.85766758e+01, 3.38564710e+02],\n",
       "       [7.07070707e+00, 4.99948985e+01, 3.53499282e+02],\n",
       "       [7.17171717e+00, 5.14335272e+01, 3.68866710e+02],\n",
       "       [7.27272727e+00, 5.28925620e+01, 3.84673178e+02],\n",
       "       [7.37373737e+00, 5.43720029e+01, 4.00924870e+02],\n",
       "       [7.47474747e+00, 5.58718498e+01, 4.17627968e+02],\n",
       "       [7.57575758e+00, 5.73921028e+01, 4.34788658e+02],\n",
       "       [7.67676768e+00, 5.89327620e+01, 4.52413122e+02],\n",
       "       [7.77777778e+00, 6.04938272e+01, 4.70507545e+02],\n",
       "       [7.87878788e+00, 6.20752984e+01, 4.89078109e+02],\n",
       "       [7.97979798e+00, 6.36771758e+01, 5.08130999e+02],\n",
       "       [8.08080808e+00, 6.52994592e+01, 5.27672398e+02],\n",
       "       [8.18181818e+00, 6.69421488e+01, 5.47708490e+02],\n",
       "       [8.28282828e+00, 6.86052444e+01, 5.68245458e+02],\n",
       "       [8.38383838e+00, 7.02887460e+01, 5.89289487e+02],\n",
       "       [8.48484848e+00, 7.19926538e+01, 6.10846760e+02],\n",
       "       [8.58585859e+00, 7.37169677e+01, 6.32923460e+02],\n",
       "       [8.68686869e+00, 7.54616876e+01, 6.55525771e+02],\n",
       "       [8.78787879e+00, 7.72268136e+01, 6.78659877e+02],\n",
       "       [8.88888889e+00, 7.90123457e+01, 7.02331962e+02],\n",
       "       [8.98989899e+00, 8.08182838e+01, 7.26548208e+02],\n",
       "       [9.09090909e+00, 8.26446281e+01, 7.51314801e+02],\n",
       "       [9.19191919e+00, 8.44913784e+01, 7.76637923e+02],\n",
       "       [9.29292929e+00, 8.63585348e+01, 8.02523758e+02],\n",
       "       [9.39393939e+00, 8.82460973e+01, 8.28978490e+02],\n",
       "       [9.49494949e+00, 9.01540659e+01, 8.56008303e+02],\n",
       "       [9.59595960e+00, 9.20824406e+01, 8.83619379e+02],\n",
       "       [9.69696970e+00, 9.40312213e+01, 9.11817904e+02],\n",
       "       [9.79797980e+00, 9.60004081e+01, 9.40610059e+02],\n",
       "       [9.89898990e+00, 9.79900010e+01, 9.70002030e+02],\n",
       "       [1.00000000e+01, 1.00000000e+02, 1.00000000e+03]])"
      ]
     },
     "execution_count": 32,
     "metadata": {},
     "output_type": "execute_result"
    }
   ],
   "source": [
    "X_poly"
   ]
  },
  {
   "cell_type": "code",
   "execution_count": 59,
   "id": "8d838054",
   "metadata": {},
   "outputs": [
    {
     "data": {
      "text/html": [
       "<style>#sk-container-id-10 {color: black;}#sk-container-id-10 pre{padding: 0;}#sk-container-id-10 div.sk-toggleable {background-color: white;}#sk-container-id-10 label.sk-toggleable__label {cursor: pointer;display: block;width: 100%;margin-bottom: 0;padding: 0.3em;box-sizing: border-box;text-align: center;}#sk-container-id-10 label.sk-toggleable__label-arrow:before {content: \"▸\";float: left;margin-right: 0.25em;color: #696969;}#sk-container-id-10 label.sk-toggleable__label-arrow:hover:before {color: black;}#sk-container-id-10 div.sk-estimator:hover label.sk-toggleable__label-arrow:before {color: black;}#sk-container-id-10 div.sk-toggleable__content {max-height: 0;max-width: 0;overflow: hidden;text-align: left;background-color: #f0f8ff;}#sk-container-id-10 div.sk-toggleable__content pre {margin: 0.2em;color: black;border-radius: 0.25em;background-color: #f0f8ff;}#sk-container-id-10 input.sk-toggleable__control:checked~div.sk-toggleable__content {max-height: 200px;max-width: 100%;overflow: auto;}#sk-container-id-10 input.sk-toggleable__control:checked~label.sk-toggleable__label-arrow:before {content: \"▾\";}#sk-container-id-10 div.sk-estimator input.sk-toggleable__control:checked~label.sk-toggleable__label {background-color: #d4ebff;}#sk-container-id-10 div.sk-label input.sk-toggleable__control:checked~label.sk-toggleable__label {background-color: #d4ebff;}#sk-container-id-10 input.sk-hidden--visually {border: 0;clip: rect(1px 1px 1px 1px);clip: rect(1px, 1px, 1px, 1px);height: 1px;margin: -1px;overflow: hidden;padding: 0;position: absolute;width: 1px;}#sk-container-id-10 div.sk-estimator {font-family: monospace;background-color: #f0f8ff;border: 1px dotted black;border-radius: 0.25em;box-sizing: border-box;margin-bottom: 0.5em;}#sk-container-id-10 div.sk-estimator:hover {background-color: #d4ebff;}#sk-container-id-10 div.sk-parallel-item::after {content: \"\";width: 100%;border-bottom: 1px solid gray;flex-grow: 1;}#sk-container-id-10 div.sk-label:hover label.sk-toggleable__label {background-color: #d4ebff;}#sk-container-id-10 div.sk-serial::before {content: \"\";position: absolute;border-left: 1px solid gray;box-sizing: border-box;top: 0;bottom: 0;left: 50%;z-index: 0;}#sk-container-id-10 div.sk-serial {display: flex;flex-direction: column;align-items: center;background-color: white;padding-right: 0.2em;padding-left: 0.2em;position: relative;}#sk-container-id-10 div.sk-item {position: relative;z-index: 1;}#sk-container-id-10 div.sk-parallel {display: flex;align-items: stretch;justify-content: center;background-color: white;position: relative;}#sk-container-id-10 div.sk-item::before, #sk-container-id-10 div.sk-parallel-item::before {content: \"\";position: absolute;border-left: 1px solid gray;box-sizing: border-box;top: 0;bottom: 0;left: 50%;z-index: -1;}#sk-container-id-10 div.sk-parallel-item {display: flex;flex-direction: column;z-index: 1;position: relative;background-color: white;}#sk-container-id-10 div.sk-parallel-item:first-child::after {align-self: flex-end;width: 50%;}#sk-container-id-10 div.sk-parallel-item:last-child::after {align-self: flex-start;width: 50%;}#sk-container-id-10 div.sk-parallel-item:only-child::after {width: 0;}#sk-container-id-10 div.sk-dashed-wrapped {border: 1px dashed gray;margin: 0 0.4em 0.5em 0.4em;box-sizing: border-box;padding-bottom: 0.4em;background-color: white;}#sk-container-id-10 div.sk-label label {font-family: monospace;font-weight: bold;display: inline-block;line-height: 1.2em;}#sk-container-id-10 div.sk-label-container {text-align: center;}#sk-container-id-10 div.sk-container {/* jupyter's `normalize.less` sets `[hidden] { display: none; }` but bootstrap.min.css set `[hidden] { display: none !important; }` so we also need the `!important` here to be able to override the default hidden behavior on the sphinx rendered scikit-learn.org. See: https://github.com/scikit-learn/scikit-learn/issues/21755 */display: inline-block !important;position: relative;}#sk-container-id-10 div.sk-text-repr-fallback {display: none;}</style><div id=\"sk-container-id-10\" class=\"sk-top-container\"><div class=\"sk-text-repr-fallback\"><pre>LinearRegression()</pre><b>In a Jupyter environment, please rerun this cell to show the HTML representation or trust the notebook. <br />On GitHub, the HTML representation is unable to render, please try loading this page with nbviewer.org.</b></div><div class=\"sk-container\" hidden><div class=\"sk-item\"><div class=\"sk-estimator sk-toggleable\"><input class=\"sk-toggleable__control sk-hidden--visually\" id=\"sk-estimator-id-10\" type=\"checkbox\" checked><label for=\"sk-estimator-id-10\" class=\"sk-toggleable__label sk-toggleable__label-arrow\">LinearRegression</label><div class=\"sk-toggleable__content\"><pre>LinearRegression()</pre></div></div></div></div></div>"
      ],
      "text/plain": [
       "LinearRegression()"
      ]
     },
     "execution_count": 59,
     "metadata": {},
     "output_type": "execute_result"
    }
   ],
   "source": [
    "linear.fit(X_poly, y)"
   ]
  },
  {
   "cell_type": "code",
   "execution_count": 39,
   "id": "a1a8684f",
   "metadata": {},
   "outputs": [
    {
     "data": {
      "text/plain": [
       "(100,)"
      ]
     },
     "execution_count": 39,
     "metadata": {},
     "output_type": "execute_result"
    }
   ],
   "source": [
    "y.shape"
   ]
  },
  {
   "cell_type": "code",
   "execution_count": 40,
   "id": "68d9305a",
   "metadata": {},
   "outputs": [
    {
     "data": {
      "text/plain": [
       "(100, 1)"
      ]
     },
     "execution_count": 40,
     "metadata": {},
     "output_type": "execute_result"
    }
   ],
   "source": [
    "X.shape"
   ]
  },
  {
   "cell_type": "code",
   "execution_count": 41,
   "id": "b956fa3f",
   "metadata": {},
   "outputs": [
    {
     "data": {
      "text/plain": [
       "array([ 0.        ,  0.1010101 ,  0.2020202 ,  0.3030303 ,  0.4040404 ,\n",
       "        0.50505051,  0.60606061,  0.70707071,  0.80808081,  0.90909091,\n",
       "        1.01010101,  1.11111111,  1.21212121,  1.31313131,  1.41414141,\n",
       "        1.51515152,  1.61616162,  1.71717172,  1.81818182,  1.91919192,\n",
       "        2.02020202,  2.12121212,  2.22222222,  2.32323232,  2.42424242,\n",
       "        2.52525253,  2.62626263,  2.72727273,  2.82828283,  2.92929293,\n",
       "        3.03030303,  3.13131313,  3.23232323,  3.33333333,  3.43434343,\n",
       "        3.53535354,  3.63636364,  3.73737374,  3.83838384,  3.93939394,\n",
       "        4.04040404,  4.14141414,  4.24242424,  4.34343434,  4.44444444,\n",
       "        4.54545455,  4.64646465,  4.74747475,  4.84848485,  4.94949495,\n",
       "        5.05050505,  5.15151515,  5.25252525,  5.35353535,  5.45454545,\n",
       "        5.55555556,  5.65656566,  5.75757576,  5.85858586,  5.95959596,\n",
       "        6.06060606,  6.16161616,  6.26262626,  6.36363636,  6.46464646,\n",
       "        6.56565657,  6.66666667,  6.76767677,  6.86868687,  6.96969697,\n",
       "        7.07070707,  7.17171717,  7.27272727,  7.37373737,  7.47474747,\n",
       "        7.57575758,  7.67676768,  7.77777778,  7.87878788,  7.97979798,\n",
       "        8.08080808,  8.18181818,  8.28282828,  8.38383838,  8.48484848,\n",
       "        8.58585859,  8.68686869,  8.78787879,  8.88888889,  8.98989899,\n",
       "        9.09090909,  9.19191919,  9.29292929,  9.39393939,  9.49494949,\n",
       "        9.5959596 ,  9.6969697 ,  9.7979798 ,  9.8989899 , 10.        ])"
      ]
     },
     "execution_count": 41,
     "metadata": {},
     "output_type": "execute_result"
    }
   ],
   "source": [
    "X.reshape(100,)"
   ]
  },
  {
   "cell_type": "code",
   "execution_count": 60,
   "id": "0c4e8804",
   "metadata": {},
   "outputs": [],
   "source": [
    "y_pred_poly = linear.predict(X_poly)"
   ]
  },
  {
   "cell_type": "code",
   "execution_count": 46,
   "id": "3685ff81",
   "metadata": {},
   "outputs": [
    {
     "data": {
      "text/plain": [
       "array([ 3.0978536 ,  2.84862959,  2.6122145 ,  2.38861998,  2.17785767,\n",
       "        1.97993924,  1.79487634,  1.62268062,  1.46336373,  1.31693734,\n",
       "        1.18341309,  1.06280264,  0.95511765,  0.86036976,  0.77857064,\n",
       "        0.70973193,  0.6538653 ,  0.61098239,  0.58109486,  0.56421436,\n",
       "        0.56035255,  0.56952109,  0.59173162,  0.6269958 ,  0.67532529,\n",
       "        0.73673174,  0.8112268 ,  0.89882213,  0.99952938,  1.11336021,\n",
       "        1.24032628,  1.38043922,  1.53371071,  1.70015239,  1.87977592,\n",
       "        2.07259295,  2.27861514,  2.49785415,  2.73032161,  2.9760292 ,\n",
       "        3.23498856,  3.50721135,  3.79270922,  4.09149383,  4.40357683,\n",
       "        4.72896988,  5.06768463,  5.41973273,  5.78512584,  6.16387561,\n",
       "        6.5559937 ,  6.96149176,  7.38038145,  7.81267442,  8.25838232,\n",
       "        8.71751681,  9.19008955,  9.67611218, 10.17559636, 10.68855375,\n",
       "       11.214996  , 11.75493476, 12.30838169, 12.87534845, 13.45584668,\n",
       "       14.04988805, 14.6574842 , 15.27864679, 15.91338747, 16.56171791,\n",
       "       17.22364975, 17.89919464, 18.58836425, 19.29117022, 20.00762421,\n",
       "       20.73773788, 21.48152288, 22.23899086, 23.01015348, 23.79502239,\n",
       "       24.59360924, 25.4059257 , 26.23198341, 27.07179403, 27.92536921,\n",
       "       28.79272061, 29.67385989, 30.56879868, 31.47754866, 32.40012148,\n",
       "       33.33652878, 34.28678223, 35.25089347, 36.22887417, 37.22073597,\n",
       "       38.22649054, 39.24614952, 40.27972456, 41.32722733, 42.38866948])"
      ]
     },
     "execution_count": 46,
     "metadata": {},
     "output_type": "execute_result"
    }
   ],
   "source": [
    "y_pred_poly"
   ]
  },
  {
   "cell_type": "code",
   "execution_count": 61,
   "id": "353e44c5",
   "metadata": {},
   "outputs": [
    {
     "data": {
      "text/plain": [
       "<matplotlib.legend.Legend at 0x2ab2bcf94d0>"
      ]
     },
     "execution_count": 61,
     "metadata": {},
     "output_type": "execute_result"
    },
    {
     "data": {
      "image/png": "[encoded data removed]",
      "text/plain": [
       "<Figure size 1200x600 with 1 Axes>"
      ]
     },
     "metadata": {},
     "output_type": "display_data"
    }
   ],
   "source": [
    "plt.figure(figsize=(12, 6))\n",
    "plt.scatter(X.reshape(100,),y, label=\"data\")\n",
    "plt.plot(X.reshape(100,), y_pred_poly, color=\"red\", label=\"model\")\n",
    "plt.legend()"
   ]
  },
  {
   "cell_type": "code",
   "execution_count": null,
   "id": "2fe4799d",
   "metadata": {},
   "outputs": [],
   "source": []
  },
  {
   "cell_type": "code",
   "execution_count": null,
   "id": "ccf1d7b9",
   "metadata": {},
   "outputs": [],
   "source": []
  }
 ],
 "metadata": {
  "kernelspec": {
   "display_name": "Python 3 (ipykernel)",
   "language": "python",
   "name": "python3"
  },
  "language_info": {
   "codemirror_mode": {
    "name": "ipython",
    "version": 3
   },
   "file_extension": ".py",
   "mimetype": "text/x-python",
   "name": "python",
   "nbconvert_exporter": "python",
   "pygments_lexer": "ipython3",
   "version": "3.11.5"
  }
 },
 "nbformat": 4,
 "nbformat_minor": 5
}
